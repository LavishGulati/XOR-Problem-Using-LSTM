{
 "cells": [
  {
   "cell_type": "code",
   "execution_count": 1,
   "metadata": {
    "scrolled": false
   },
   "outputs": [
    {
     "name": "stderr",
     "output_type": "stream",
     "text": [
      "Using TensorFlow backend.\n"
     ]
    }
   ],
   "source": [
    "import numpy as np\n",
    "import random\n",
    "from sklearn.model_selection import train_test_split\n",
    "from keras.models import Sequential\n",
    "from keras.layers import LSTM, Dense"
   ]
  },
  {
   "cell_type": "code",
   "execution_count": 2,
   "metadata": {},
   "outputs": [],
   "source": [
    "size = 100000\n",
    "length = 50\n",
    "MAX = 100000"
   ]
  },
  {
   "cell_type": "code",
   "execution_count": 3,
   "metadata": {},
   "outputs": [],
   "source": [
    "X = np.zeros((size, length, 1), dtype=int)\n",
    "y = np.zeros((size, 1), dtype=int)"
   ]
  },
  {
   "cell_type": "code",
   "execution_count": 4,
   "metadata": {},
   "outputs": [
    {
     "name": "stdout",
     "output_type": "stream",
     "text": [
      "XOR Problem Using LSTM\n",
      "Input the type of string lengths - 0 for fixed, 1 for variable\n",
      "1\n"
     ]
    }
   ],
   "source": [
    "print(\"XOR Problem Using LSTM\")\n",
    "print(\"Input the type of string lengths - 0 for fixed, 1 for variable\")\n",
    "choice = int(input())\n",
    "pad = -1"
   ]
  },
  {
   "cell_type": "code",
   "execution_count": 5,
   "metadata": {},
   "outputs": [],
   "source": [
    "# Fixed length string\n",
    "if choice == 0:\n",
    "    print(\"choice: 0, pad: 0\")\n",
    "    for i in range(size):\n",
    "        l = np.zeros((length, 1))\n",
    "        count = 0\n",
    "        for j in range(length):\n",
    "            a = random.randint(0, MAX)\n",
    "            l[j,0] = a%2\n",
    "            count += a%2\n",
    "        X[i,:] = l\n",
    "        y[i,:] = count%2"
   ]
  },
  {
   "cell_type": "code",
   "execution_count": 6,
   "metadata": {},
   "outputs": [
    {
     "name": "stdout",
     "output_type": "stream",
     "text": [
      "Which padding do you want? - 0 for pre, 1 for post\n",
      "0\n"
     ]
    }
   ],
   "source": [
    "if choice == 1:\n",
    "    print(\"Which padding do you want? - 0 for pre, 1 for post\")\n",
    "    pad = int(input())"
   ]
  },
  {
   "cell_type": "code",
   "execution_count": 7,
   "metadata": {},
   "outputs": [
    {
     "name": "stdout",
     "output_type": "stream",
     "text": [
      "1 0\n"
     ]
    }
   ],
   "source": [
    "# Variable length string with pre-padding\n",
    "if choice == 1 and pad == 0:\n",
    "    print(\"choice: 1, pad: 0\")\n",
    "    for i in range(size):\n",
    "        l=np.zeros((length,1))\n",
    "        len_2 = random.randint(1,50)\n",
    "        count=0\n",
    "        for j in range(len_2):\n",
    "            a=random.randint(0,MAX)\n",
    "            l[length-j-1,0]=a%2\n",
    "            count+=(a%2)\n",
    "        X[i,:]=l\n",
    "        y[i,:]=count%2"
   ]
  },
  {
   "cell_type": "code",
   "execution_count": 8,
   "metadata": {},
   "outputs": [],
   "source": [
    "#Variable length string with post-padding\n",
    "if choice == 1 and pad == 1:\n",
    "    print(\"choice: 1, pad: 1\")\n",
    "    for i in range(size):\n",
    "        l=np.zeros((length,1))\n",
    "        len_2 = random.randint(1,50)\n",
    "        count=0\n",
    "        for j in range(len_2):\n",
    "            a=random.randint(0,MAX)\n",
    "            l[j,0]=a%2\n",
    "            count+=(a%2)\n",
    "        X[i,:]=l\n",
    "        y[i,:]=count%2"
   ]
  },
  {
   "cell_type": "code",
   "execution_count": 9,
   "metadata": {},
   "outputs": [],
   "source": [
    "X_train, X_test, y_train, y_test = train_test_split(X, y)"
   ]
  },
  {
   "cell_type": "code",
   "execution_count": 10,
   "metadata": {},
   "outputs": [
    {
     "name": "stdout",
     "output_type": "stream",
     "text": [
      "_________________________________________________________________\n",
      "Layer (type)                 Output Shape              Param #   \n",
      "=================================================================\n",
      "lstm_1 (LSTM)                (None, 50)                10400     \n",
      "_________________________________________________________________\n",
      "dense_1 (Dense)              (None, 1)                 51        \n",
      "=================================================================\n",
      "Total params: 10,451\n",
      "Trainable params: 10,451\n",
      "Non-trainable params: 0\n",
      "_________________________________________________________________\n"
     ]
    }
   ],
   "source": [
    "model = Sequential()\n",
    "model.add(LSTM(50, input_shape=(50,1)))\n",
    "model.add(Dense(1, activation=\"sigmoid\"))\n",
    "model.summary()"
   ]
  },
  {
   "cell_type": "code",
   "execution_count": 11,
   "metadata": {},
   "outputs": [],
   "source": [
    "model.compile(\"adam\", loss=\"binary_crossentropy\", metrics=[\"accuracy\"])"
   ]
  },
  {
   "cell_type": "code",
   "execution_count": 12,
   "metadata": {
    "scrolled": true
   },
   "outputs": [
    {
     "name": "stdout",
     "output_type": "stream",
     "text": [
      "Epoch 1/3\n",
      "75000/75000 [==============================] - 89s 1ms/step - loss: 0.6929 - acc: 0.5108\n",
      "Epoch 2/3\n",
      "75000/75000 [==============================] - 60s 805us/step - loss: 0.5116 - acc: 0.6528\n",
      "Epoch 3/3\n",
      "75000/75000 [==============================] - 63s 840us/step - loss: 0.0561 - acc: 0.9631\n"
     ]
    },
    {
     "data": {
      "text/plain": [
       "<keras.callbacks.History at 0x7f4507fd6d68>"
      ]
     },
     "execution_count": 12,
     "metadata": {},
     "output_type": "execute_result"
    }
   ],
   "source": [
    "model.fit(X_train, y_train, epochs=3, batch_size=32)"
   ]
  },
  {
   "cell_type": "code",
   "execution_count": 13,
   "metadata": {},
   "outputs": [
    {
     "name": "stdout",
     "output_type": "stream",
     "text": [
      "25000/25000 [==============================] - 4s 178us/step\n"
     ]
    }
   ],
   "source": [
    "loss, accuracy = model.evaluate(X_test, y_test)"
   ]
  },
  {
   "cell_type": "code",
   "execution_count": 14,
   "metadata": {},
   "outputs": [
    {
     "data": {
      "text/plain": [
       "96.828"
      ]
     },
     "execution_count": 14,
     "metadata": {},
     "output_type": "execute_result"
    }
   ],
   "source": [
    "accuracy*100"
   ]
  }
 ],
 "metadata": {
  "kernelspec": {
   "display_name": "Python 3",
   "language": "python",
   "name": "python3"
  },
  "language_info": {
   "codemirror_mode": {
    "name": "ipython",
    "version": 3
   },
   "file_extension": ".py",
   "mimetype": "text/x-python",
   "name": "python",
   "nbconvert_exporter": "python",
   "pygments_lexer": "ipython3",
   "version": "3.6.6"
  }
 },
 "nbformat": 4,
 "nbformat_minor": 2
}
